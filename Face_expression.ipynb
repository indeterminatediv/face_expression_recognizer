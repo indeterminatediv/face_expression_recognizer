{
 "cells": [
  {
   "cell_type": "code",
   "execution_count": 1,
   "id": "f31df6e1",
   "metadata": {},
   "outputs": [],
   "source": [
    "from keras.preprocessing.image import ImageDataGenerator\n",
    "from keras.models import Sequential\n",
    "from keras.layers import Dense,Dropout,Flatten\n",
    "from keras.layers import Conv2D,MaxPooling2D\n",
    "import os\n",
    "\n"
   ]
  },
  {
   "cell_type": "code",
   "execution_count": 2,
   "id": "3792b792",
   "metadata": {},
   "outputs": [],
   "source": [
    "train_data_dir = '/home/ravi/PROJECT_OM/dataset/train/'\n",
    "validation_data_dir = '/home/ravi/PROJECT_OM/dataset/test/'\n"
   ]
  },
  {
   "cell_type": "code",
   "execution_count": 4,
   "id": "dd866ebf",
   "metadata": {},
   "outputs": [
    {
     "name": "stdout",
     "output_type": "stream",
     "text": [
      "Found 28709 images belonging to 7 classes.\n"
     ]
    }
   ],
   "source": [
    "train_datagen = ImageDataGenerator(\n",
    "                      rescale=1./255,\n",
    "                      rotation_range=30,\n",
    "                      shear_range=0.3,\n",
    "                      zoom_range=0.3,\n",
    "                      horizontal_flip=True,\n",
    "                      fill_mode='nearest')\n",
    "\n",
    "validation_datagen = ImageDataGenerator(rescale=1./255)\n",
    "\n",
    "train_generator = train_datagen.flow_from_directory(\n",
    "                         train_data_dir,\n",
    "                         color_mode='grayscale',\n",
    "                         target_size=(48,48),\n",
    "                         batch_size=32,\n",
    "                         class_mode='categorical',\n",
    "                         shuffle=True)"
   ]
  },
  {
   "cell_type": "code",
   "execution_count": 5,
   "id": "7d30d8b7",
   "metadata": {},
   "outputs": [
    {
     "name": "stdout",
     "output_type": "stream",
     "text": [
      "Found 7178 images belonging to 7 classes.\n"
     ]
    }
   ],
   "source": [
    "validation_generator = validation_datagen.flow_from_directory(\n",
    "                         validation_data_dir,\n",
    "                         color_mode='grayscale',\n",
    "                         target_size=(48,48),\n",
    "                         batch_size=32,\n",
    "                         class_mode='categorical',\n",
    "                         shuffle=True)\n"
   ]
  },
  {
   "cell_type": "code",
   "execution_count": 6,
   "id": "0499d4ca",
   "metadata": {},
   "outputs": [],
   "source": [
    "class_labels = ['Angry', 'Disgust', 'Fear', 'Happy', 'Neutral', 'Sad', 'Surprise' ]\n",
    "img, label = train_generator.__next__()\n"
   ]
  },
  {
   "cell_type": "code",
   "execution_count": 8,
   "id": "bcfacc6c",
   "metadata": {},
   "outputs": [
    {
     "name": "stdout",
     "output_type": "stream",
     "text": [
      "Model: \"sequential_1\"\n",
      "_________________________________________________________________\n",
      " Layer (type)                Output Shape              Param #   \n",
      "=================================================================\n",
      " conv2d (Conv2D)             (None, 46, 46, 32)        320       \n",
      "                                                                 \n",
      " conv2d_1 (Conv2D)           (None, 44, 44, 64)        18496     \n",
      "                                                                 \n",
      " max_pooling2d (MaxPooling2D  (None, 22, 22, 64)       0         \n",
      " )                                                               \n",
      "                                                                 \n",
      " dropout (Dropout)           (None, 22, 22, 64)        0         \n",
      "                                                                 \n",
      " conv2d_2 (Conv2D)           (None, 20, 20, 128)       73856     \n",
      "                                                                 \n",
      " max_pooling2d_1 (MaxPooling  (None, 10, 10, 128)      0         \n",
      " 2D)                                                             \n",
      "                                                                 \n",
      " dropout_1 (Dropout)         (None, 10, 10, 128)       0         \n",
      "                                                                 \n",
      " conv2d_3 (Conv2D)           (None, 8, 8, 256)         295168    \n",
      "                                                                 \n",
      " max_pooling2d_2 (MaxPooling  (None, 4, 4, 256)        0         \n",
      " 2D)                                                             \n",
      "                                                                 \n",
      " dropout_2 (Dropout)         (None, 4, 4, 256)         0         \n",
      "                                                                 \n",
      " flatten (Flatten)           (None, 4096)              0         \n",
      "                                                                 \n",
      " dense (Dense)               (None, 512)               2097664   \n",
      "                                                                 \n",
      " dropout_3 (Dropout)         (None, 512)               0         \n",
      "                                                                 \n",
      " dense_1 (Dense)             (None, 7)                 3591      \n",
      "                                                                 \n",
      "=================================================================\n",
      "Total params: 2,489,095\n",
      "Trainable params: 2,489,095\n",
      "Non-trainable params: 0\n",
      "_________________________________________________________________\n",
      "None\n"
     ]
    }
   ],
   "source": [
    "model = Sequential()\n",
    "\n",
    "model.add(Conv2D(32, kernel_size=(3,3), activation='relu', input_shape=(48,48,1)))\n",
    "\n",
    "model.add(Conv2D(64, kernel_size=(3,3), activation='relu'))\n",
    "model.add(MaxPooling2D(pool_size=(2,2)))\n",
    "model.add(Dropout(0.1))\n",
    "\n",
    "model.add(Conv2D(128, kernel_size=(3,3), activation='relu'))\n",
    "model.add(MaxPooling2D(pool_size=(2,2)))\n",
    "model.add(Dropout(0.1))\n",
    "\n",
    "model.add(Conv2D(256, kernel_size=(3,3), activation='relu'))\n",
    "model.add(MaxPooling2D(pool_size=(2,2)))\n",
    "model.add(Dropout(0.1))\n",
    "\n",
    "model.add(Flatten())\n",
    "model.add(Dense(512, activation='relu'))\n",
    "model.add(Dropout(0.2))\n",
    "\n",
    "model.add(Dense(7, activation='softmax'))\n",
    "\n",
    "model.compile(optimizer = 'adam', loss = 'categorical_crossentropy', metrics=['accuracy'])\n",
    "print(model.summary())"
   ]
  },
  {
   "cell_type": "code",
   "execution_count": 14,
   "id": "aba24edd",
   "metadata": {},
   "outputs": [],
   "source": [
    "train_path = '/home/ravi/PROJECT_OM/dataset/train/'\n",
    "test_path = '/home/ravi/PROJECT_OM/dataset/test/'"
   ]
  },
  {
   "cell_type": "code",
   "execution_count": 15,
   "id": "018184ab",
   "metadata": {},
   "outputs": [],
   "source": [
    "num_train_imgs = 0\n",
    "for root,dirs, files in os.walk(train_path):\n",
    "    num_train_imgs += len(files)\n",
    "    "
   ]
  },
  {
   "cell_type": "code",
   "execution_count": 16,
   "id": "7c851651",
   "metadata": {},
   "outputs": [],
   "source": [
    "num_test_imgs = 0\n",
    "for root,dirs, files in os.walk(test_path):\n",
    "    num_test_imgs += len(files)"
   ]
  },
  {
   "cell_type": "code",
   "execution_count": 17,
   "id": "83bb483d",
   "metadata": {},
   "outputs": [
    {
     "name": "stdout",
     "output_type": "stream",
     "text": [
      "7178\n",
      "28709\n"
     ]
    }
   ],
   "source": [
    "print(num_test_imgs)\n",
    "print(num_train_imgs)"
   ]
  },
  {
   "cell_type": "code",
   "execution_count": 18,
   "id": "2118d958",
   "metadata": {},
   "outputs": [
    {
     "name": "stdout",
     "output_type": "stream",
     "text": [
      "Epoch 1/100\n",
      "897/897 [==============================] - 25s 25ms/step - loss: 1.7857 - accuracy: 0.2602 - val_loss: 1.6912 - val_accuracy: 0.3238\n",
      "Epoch 2/100\n",
      "897/897 [==============================] - 28s 31ms/step - loss: 1.6668 - accuracy: 0.3315 - val_loss: 1.5132 - val_accuracy: 0.4171\n",
      "Epoch 3/100\n",
      "897/897 [==============================] - 28s 32ms/step - loss: 1.5274 - accuracy: 0.4038 - val_loss: 1.3629 - val_accuracy: 0.4754\n",
      "Epoch 4/100\n",
      "897/897 [==============================] - 27s 30ms/step - loss: 1.4448 - accuracy: 0.4442 - val_loss: 1.3440 - val_accuracy: 0.4856\n",
      "Epoch 5/100\n",
      "897/897 [==============================] - 28s 32ms/step - loss: 1.3855 - accuracy: 0.4681 - val_loss: 1.2456 - val_accuracy: 0.5247\n",
      "Epoch 6/100\n",
      "897/897 [==============================] - 22s 25ms/step - loss: 1.3454 - accuracy: 0.4844 - val_loss: 1.2126 - val_accuracy: 0.5329\n",
      "Epoch 7/100\n",
      "897/897 [==============================] - 25s 28ms/step - loss: 1.3144 - accuracy: 0.4979 - val_loss: 1.1969 - val_accuracy: 0.5439\n",
      "Epoch 8/100\n",
      "897/897 [==============================] - 26s 29ms/step - loss: 1.2861 - accuracy: 0.5089 - val_loss: 1.1944 - val_accuracy: 0.5472\n",
      "Epoch 9/100\n",
      "897/897 [==============================] - 29s 32ms/step - loss: 1.2696 - accuracy: 0.5167 - val_loss: 1.1819 - val_accuracy: 0.5480\n",
      "Epoch 10/100\n",
      "897/897 [==============================] - 29s 32ms/step - loss: 1.2576 - accuracy: 0.5230 - val_loss: 1.1503 - val_accuracy: 0.5626\n",
      "Epoch 11/100\n",
      "897/897 [==============================] - 29s 33ms/step - loss: 1.2437 - accuracy: 0.5294 - val_loss: 1.1371 - val_accuracy: 0.5677\n",
      "Epoch 12/100\n",
      "897/897 [==============================] - 26s 29ms/step - loss: 1.2268 - accuracy: 0.5341 - val_loss: 1.1316 - val_accuracy: 0.5656\n",
      "Epoch 13/100\n",
      "897/897 [==============================] - 28s 31ms/step - loss: 1.2202 - accuracy: 0.5337 - val_loss: 1.1134 - val_accuracy: 0.5785\n",
      "Epoch 14/100\n",
      "897/897 [==============================] - 26s 29ms/step - loss: 1.2119 - accuracy: 0.5370 - val_loss: 1.1112 - val_accuracy: 0.5819\n",
      "Epoch 15/100\n",
      "897/897 [==============================] - 26s 29ms/step - loss: 1.2028 - accuracy: 0.5402 - val_loss: 1.1178 - val_accuracy: 0.5769\n",
      "Epoch 16/100\n",
      "897/897 [==============================] - 22s 25ms/step - loss: 1.1932 - accuracy: 0.5506 - val_loss: 1.1138 - val_accuracy: 0.5808\n",
      "Epoch 17/100\n",
      "897/897 [==============================] - 28s 31ms/step - loss: 1.1871 - accuracy: 0.5518 - val_loss: 1.1191 - val_accuracy: 0.5774\n",
      "Epoch 18/100\n",
      "897/897 [==============================] - 29s 32ms/step - loss: 1.1739 - accuracy: 0.5564 - val_loss: 1.0912 - val_accuracy: 0.5873\n",
      "Epoch 19/100\n",
      "897/897 [==============================] - 28s 31ms/step - loss: 1.1760 - accuracy: 0.5536 - val_loss: 1.0902 - val_accuracy: 0.5894\n",
      "Epoch 20/100\n",
      "897/897 [==============================] - 21s 23ms/step - loss: 1.1629 - accuracy: 0.5565 - val_loss: 1.0823 - val_accuracy: 0.5921\n",
      "Epoch 21/100\n",
      "897/897 [==============================] - 26s 29ms/step - loss: 1.1574 - accuracy: 0.5614 - val_loss: 1.0873 - val_accuracy: 0.5940\n",
      "Epoch 22/100\n",
      "897/897 [==============================] - 29s 32ms/step - loss: 1.1529 - accuracy: 0.5612 - val_loss: 1.0657 - val_accuracy: 0.5971\n",
      "Epoch 23/100\n",
      "897/897 [==============================] - 28s 32ms/step - loss: 1.1487 - accuracy: 0.5663 - val_loss: 1.0640 - val_accuracy: 0.5971\n",
      "Epoch 24/100\n",
      "897/897 [==============================] - 29s 32ms/step - loss: 1.1493 - accuracy: 0.5617 - val_loss: 1.0498 - val_accuracy: 0.5997\n",
      "Epoch 25/100\n",
      "897/897 [==============================] - 29s 32ms/step - loss: 1.1408 - accuracy: 0.5668 - val_loss: 1.0613 - val_accuracy: 0.6003\n",
      "Epoch 26/100\n",
      "897/897 [==============================] - 29s 32ms/step - loss: 1.1448 - accuracy: 0.5662 - val_loss: 1.0569 - val_accuracy: 0.5978\n",
      "Epoch 27/100\n",
      "897/897 [==============================] - 28s 31ms/step - loss: 1.1307 - accuracy: 0.5727 - val_loss: 1.0596 - val_accuracy: 0.6030\n",
      "Epoch 28/100\n",
      "897/897 [==============================] - 22s 24ms/step - loss: 1.1269 - accuracy: 0.5727 - val_loss: 1.0401 - val_accuracy: 0.6066\n",
      "Epoch 29/100\n",
      "897/897 [==============================] - 27s 31ms/step - loss: 1.1227 - accuracy: 0.5774 - val_loss: 1.0502 - val_accuracy: 0.6064\n",
      "Epoch 30/100\n",
      "897/897 [==============================] - 29s 32ms/step - loss: 1.1187 - accuracy: 0.5742 - val_loss: 1.0689 - val_accuracy: 0.5956\n",
      "Epoch 31/100\n",
      "897/897 [==============================] - 24s 26ms/step - loss: 1.1200 - accuracy: 0.5763 - val_loss: 1.0485 - val_accuracy: 0.6016\n",
      "Epoch 32/100\n",
      "897/897 [==============================] - 28s 32ms/step - loss: 1.1162 - accuracy: 0.5762 - val_loss: 1.0534 - val_accuracy: 0.6042\n",
      "Epoch 33/100\n",
      "897/897 [==============================] - 28s 32ms/step - loss: 1.1096 - accuracy: 0.5813 - val_loss: 1.0593 - val_accuracy: 0.6017\n",
      "Epoch 34/100\n",
      "897/897 [==============================] - 29s 32ms/step - loss: 1.1126 - accuracy: 0.5765 - val_loss: 1.0516 - val_accuracy: 0.6049\n",
      "Epoch 35/100\n",
      "897/897 [==============================] - 29s 32ms/step - loss: 1.1058 - accuracy: 0.5828 - val_loss: 1.0938 - val_accuracy: 0.5905\n",
      "Epoch 36/100\n",
      "897/897 [==============================] - 29s 32ms/step - loss: 1.0982 - accuracy: 0.5855 - val_loss: 1.1154 - val_accuracy: 0.5797\n",
      "Epoch 37/100\n",
      "897/897 [==============================] - 28s 31ms/step - loss: 1.1039 - accuracy: 0.5821 - val_loss: 1.0340 - val_accuracy: 0.6102\n",
      "Epoch 38/100\n",
      "897/897 [==============================] - 29s 32ms/step - loss: 1.0912 - accuracy: 0.5885 - val_loss: 1.0470 - val_accuracy: 0.6046\n",
      "Epoch 39/100\n",
      "897/897 [==============================] - 28s 31ms/step - loss: 1.0927 - accuracy: 0.5862 - val_loss: 1.0552 - val_accuracy: 0.6067\n",
      "Epoch 40/100\n",
      "897/897 [==============================] - 23s 26ms/step - loss: 1.0916 - accuracy: 0.5897 - val_loss: 1.0424 - val_accuracy: 0.6056\n",
      "Epoch 41/100\n",
      "897/897 [==============================] - 26s 29ms/step - loss: 1.0896 - accuracy: 0.5872 - val_loss: 1.0557 - val_accuracy: 0.6028\n",
      "Epoch 42/100\n",
      "897/897 [==============================] - 24s 27ms/step - loss: 1.0851 - accuracy: 0.5849 - val_loss: 1.0289 - val_accuracy: 0.6166\n",
      "Epoch 43/100\n",
      "897/897 [==============================] - 27s 30ms/step - loss: 1.0809 - accuracy: 0.5906 - val_loss: 1.0324 - val_accuracy: 0.6175\n",
      "Epoch 44/100\n",
      "897/897 [==============================] - 29s 32ms/step - loss: 1.0751 - accuracy: 0.5900 - val_loss: 1.0517 - val_accuracy: 0.6088\n",
      "Epoch 45/100\n",
      "897/897 [==============================] - 29s 32ms/step - loss: 1.0793 - accuracy: 0.5900 - val_loss: 1.0387 - val_accuracy: 0.6085\n",
      "Epoch 46/100\n",
      "897/897 [==============================] - 26s 29ms/step - loss: 1.0823 - accuracy: 0.5904 - val_loss: 1.0455 - val_accuracy: 0.6056\n",
      "Epoch 47/100\n",
      "897/897 [==============================] - 27s 30ms/step - loss: 1.0713 - accuracy: 0.5911 - val_loss: 1.0374 - val_accuracy: 0.6130\n",
      "Epoch 48/100\n",
      "897/897 [==============================] - 28s 31ms/step - loss: 1.0710 - accuracy: 0.5921 - val_loss: 1.0385 - val_accuracy: 0.6059\n",
      "Epoch 49/100\n",
      "897/897 [==============================] - 26s 29ms/step - loss: 1.0719 - accuracy: 0.5945 - val_loss: 1.0375 - val_accuracy: 0.6129\n",
      "Epoch 50/100\n",
      "897/897 [==============================] - 25s 28ms/step - loss: 1.0705 - accuracy: 0.5989 - val_loss: 1.0448 - val_accuracy: 0.6127\n",
      "Epoch 51/100\n",
      "897/897 [==============================] - 24s 27ms/step - loss: 1.0632 - accuracy: 0.5968 - val_loss: 1.0289 - val_accuracy: 0.6136\n",
      "Epoch 52/100\n",
      "897/897 [==============================] - 28s 32ms/step - loss: 1.0655 - accuracy: 0.5956 - val_loss: 1.0226 - val_accuracy: 0.6190\n",
      "Epoch 53/100\n",
      "897/897 [==============================] - 23s 26ms/step - loss: 1.0616 - accuracy: 0.6000 - val_loss: 1.0145 - val_accuracy: 0.6237\n",
      "Epoch 54/100\n",
      "897/897 [==============================] - 26s 29ms/step - loss: 1.0596 - accuracy: 0.5951 - val_loss: 1.0551 - val_accuracy: 0.6066\n",
      "Epoch 55/100\n",
      "897/897 [==============================] - 25s 28ms/step - loss: 1.0622 - accuracy: 0.5980 - val_loss: 1.0147 - val_accuracy: 0.6263\n",
      "Epoch 56/100\n",
      "897/897 [==============================] - 28s 31ms/step - loss: 1.0515 - accuracy: 0.5987 - val_loss: 1.0133 - val_accuracy: 0.6233\n",
      "Epoch 57/100\n",
      "897/897 [==============================] - 29s 32ms/step - loss: 1.0551 - accuracy: 0.6031 - val_loss: 1.0290 - val_accuracy: 0.6229\n",
      "Epoch 58/100\n",
      "897/897 [==============================] - 29s 32ms/step - loss: 1.0548 - accuracy: 0.6036 - val_loss: 1.0314 - val_accuracy: 0.6194\n",
      "Epoch 59/100\n",
      "897/897 [==============================] - 28s 31ms/step - loss: 1.0549 - accuracy: 0.6007 - val_loss: 1.0521 - val_accuracy: 0.6137\n",
      "Epoch 60/100\n",
      "897/897 [==============================] - 25s 28ms/step - loss: 1.0402 - accuracy: 0.6049 - val_loss: 1.0507 - val_accuracy: 0.6092\n",
      "Epoch 61/100\n",
      "897/897 [==============================] - 29s 33ms/step - loss: 1.0465 - accuracy: 0.6036 - val_loss: 1.0218 - val_accuracy: 0.6218\n",
      "Epoch 62/100\n",
      "897/897 [==============================] - 28s 31ms/step - loss: 1.0503 - accuracy: 0.6019 - val_loss: 1.0399 - val_accuracy: 0.6162\n",
      "Epoch 63/100\n",
      "897/897 [==============================] - 27s 30ms/step - loss: 1.0520 - accuracy: 0.6010 - val_loss: 1.0297 - val_accuracy: 0.6173\n",
      "Epoch 64/100\n",
      "897/897 [==============================] - 22s 25ms/step - loss: 1.0470 - accuracy: 0.6081 - val_loss: 1.0669 - val_accuracy: 0.6003\n",
      "Epoch 65/100\n",
      "897/897 [==============================] - 25s 28ms/step - loss: 1.0487 - accuracy: 0.6059 - val_loss: 1.0320 - val_accuracy: 0.6165\n",
      "Epoch 66/100\n",
      "897/897 [==============================] - 29s 32ms/step - loss: 1.0473 - accuracy: 0.6055 - val_loss: 1.0509 - val_accuracy: 0.6087\n",
      "Epoch 67/100\n",
      "897/897 [==============================] - 27s 30ms/step - loss: 1.0435 - accuracy: 0.6067 - val_loss: 1.0368 - val_accuracy: 0.6161\n",
      "Epoch 68/100\n",
      "897/897 [==============================] - 29s 32ms/step - loss: 1.0456 - accuracy: 0.6045 - val_loss: 1.0407 - val_accuracy: 0.6126\n",
      "Epoch 69/100\n",
      "897/897 [==============================] - 27s 30ms/step - loss: 1.0363 - accuracy: 0.6103 - val_loss: 1.0193 - val_accuracy: 0.6239\n",
      "Epoch 70/100\n",
      "897/897 [==============================] - 29s 32ms/step - loss: 1.0408 - accuracy: 0.6092 - val_loss: 1.0281 - val_accuracy: 0.6183\n",
      "Epoch 71/100\n",
      "897/897 [==============================] - 29s 32ms/step - loss: 1.0272 - accuracy: 0.6107 - val_loss: 1.0484 - val_accuracy: 0.6193\n",
      "Epoch 72/100\n",
      "897/897 [==============================] - 29s 33ms/step - loss: 1.0289 - accuracy: 0.6095 - val_loss: 1.0305 - val_accuracy: 0.6182\n",
      "Epoch 73/100\n",
      "897/897 [==============================] - 29s 33ms/step - loss: 1.0385 - accuracy: 0.6062 - val_loss: 1.0359 - val_accuracy: 0.6150\n",
      "Epoch 74/100\n",
      "897/897 [==============================] - 27s 30ms/step - loss: 1.0326 - accuracy: 0.6104 - val_loss: 1.0307 - val_accuracy: 0.6190\n",
      "Epoch 75/100\n",
      "897/897 [==============================] - 26s 29ms/step - loss: 1.0260 - accuracy: 0.6131 - val_loss: 1.0268 - val_accuracy: 0.6205\n",
      "Epoch 76/100\n",
      "897/897 [==============================] - 22s 24ms/step - loss: 1.0402 - accuracy: 0.6094 - val_loss: 1.0448 - val_accuracy: 0.6123\n",
      "Epoch 77/100\n",
      "897/897 [==============================] - 25s 27ms/step - loss: 1.0398 - accuracy: 0.6054 - val_loss: 1.0555 - val_accuracy: 0.6076\n",
      "Epoch 78/100\n",
      "897/897 [==============================] - 29s 32ms/step - loss: 1.0313 - accuracy: 0.6097 - val_loss: 1.0263 - val_accuracy: 0.6193\n",
      "Epoch 79/100\n",
      "897/897 [==============================] - 28s 31ms/step - loss: 1.0252 - accuracy: 0.6136 - val_loss: 1.0225 - val_accuracy: 0.6180\n",
      "Epoch 80/100\n",
      "897/897 [==============================] - 29s 32ms/step - loss: 1.0253 - accuracy: 0.6114 - val_loss: 1.0270 - val_accuracy: 0.6186\n",
      "Epoch 81/100\n",
      "897/897 [==============================] - 29s 32ms/step - loss: 1.0176 - accuracy: 0.6156 - val_loss: 1.0331 - val_accuracy: 0.6161\n",
      "Epoch 82/100\n",
      "897/897 [==============================] - 29s 32ms/step - loss: 1.0233 - accuracy: 0.6132 - val_loss: 1.0336 - val_accuracy: 0.6223\n",
      "Epoch 83/100\n",
      "897/897 [==============================] - 18s 20ms/step - loss: 1.0223 - accuracy: 0.6120 - val_loss: 1.0299 - val_accuracy: 0.6235\n",
      "Epoch 84/100\n",
      "897/897 [==============================] - 29s 32ms/step - loss: 1.0243 - accuracy: 0.6103 - val_loss: 1.0327 - val_accuracy: 0.6212\n",
      "Epoch 85/100\n",
      "897/897 [==============================] - 27s 30ms/step - loss: 1.0227 - accuracy: 0.6136 - val_loss: 1.0137 - val_accuracy: 0.6304\n",
      "Epoch 86/100\n",
      "897/897 [==============================] - 27s 30ms/step - loss: 1.0231 - accuracy: 0.6125 - val_loss: 1.0389 - val_accuracy: 0.6126\n",
      "Epoch 87/100\n",
      "897/897 [==============================] - 29s 32ms/step - loss: 1.0213 - accuracy: 0.6154 - val_loss: 1.0369 - val_accuracy: 0.6225\n",
      "Epoch 88/100\n",
      "897/897 [==============================] - 25s 28ms/step - loss: 1.0218 - accuracy: 0.6137 - val_loss: 1.0465 - val_accuracy: 0.6150\n",
      "Epoch 89/100\n",
      "897/897 [==============================] - 28s 31ms/step - loss: 1.0168 - accuracy: 0.6169 - val_loss: 1.0240 - val_accuracy: 0.6223\n",
      "Epoch 90/100\n",
      "897/897 [==============================] - 28s 32ms/step - loss: 1.0117 - accuracy: 0.6195 - val_loss: 1.0280 - val_accuracy: 0.6237\n",
      "Epoch 91/100\n",
      "897/897 [==============================] - 29s 32ms/step - loss: 1.0165 - accuracy: 0.6171 - val_loss: 1.0368 - val_accuracy: 0.6198\n",
      "Epoch 92/100\n",
      "897/897 [==============================] - 28s 31ms/step - loss: 1.0163 - accuracy: 0.6159 - val_loss: 1.0835 - val_accuracy: 0.6030\n",
      "Epoch 93/100\n",
      "897/897 [==============================] - 26s 29ms/step - loss: 1.0107 - accuracy: 0.6183 - val_loss: 1.0480 - val_accuracy: 0.6145\n",
      "Epoch 94/100\n",
      "897/897 [==============================] - 29s 32ms/step - loss: 1.0106 - accuracy: 0.6196 - val_loss: 1.0342 - val_accuracy: 0.6161\n",
      "Epoch 95/100\n",
      "897/897 [==============================] - 28s 31ms/step - loss: 1.0141 - accuracy: 0.6137 - val_loss: 1.0397 - val_accuracy: 0.6189\n",
      "Epoch 96/100\n",
      "897/897 [==============================] - 28s 32ms/step - loss: 1.0044 - accuracy: 0.6182 - val_loss: 1.0344 - val_accuracy: 0.6217\n",
      "Epoch 97/100\n",
      "897/897 [==============================] - 28s 31ms/step - loss: 1.0115 - accuracy: 0.6170 - val_loss: 1.0322 - val_accuracy: 0.6196\n",
      "Epoch 98/100\n",
      "897/897 [==============================] - 28s 31ms/step - loss: 1.0077 - accuracy: 0.6229 - val_loss: 1.0100 - val_accuracy: 0.6222\n",
      "Epoch 99/100\n",
      "897/897 [==============================] - 29s 32ms/step - loss: 1.0073 - accuracy: 0.6206 - val_loss: 1.0465 - val_accuracy: 0.6105\n",
      "Epoch 100/100\n",
      "897/897 [==============================] - 26s 29ms/step - loss: 0.9960 - accuracy: 0.6265 - val_loss: 1.0252 - val_accuracy: 0.6218\n"
     ]
    }
   ],
   "source": [
    "epochs = 100\n",
    "history = model.fit(train_generator,\n",
    "                   steps_per_epoch = num_train_imgs//32,\n",
    "                   epochs=epochs,\n",
    "                   validation_data=validation_generator,\n",
    "                   validation_steps=num_test_imgs//32)"
   ]
  },
  {
   "cell_type": "code",
   "execution_count": 20,
   "id": "063c01be",
   "metadata": {},
   "outputs": [],
   "source": [
    "model.save('model_file.h5')"
   ]
  },
  {
   "cell_type": "code",
   "execution_count": 2,
   "id": "b53afaf0",
   "metadata": {},
   "outputs": [],
   "source": [
    "import cv2\n",
    "import numpy as np\n",
    "from keras.models import load_model"
   ]
  },
  {
   "cell_type": "code",
   "execution_count": 3,
   "id": "d911bce9",
   "metadata": {},
   "outputs": [],
   "source": [
    "model = load_model('model_file.h5')"
   ]
  },
  {
   "cell_type": "code",
   "execution_count": 4,
   "id": "1f4a5cdd",
   "metadata": {},
   "outputs": [],
   "source": [
    "faceDetect = cv2.CascadeClassifier('haarcascade_frontalface_default.xml')"
   ]
  },
  {
   "cell_type": "code",
   "execution_count": 23,
   "id": "39f32035",
   "metadata": {},
   "outputs": [
    {
     "name": "stdout",
     "output_type": "stream",
     "text": [
      "XML file downloaded successfully!\n"
     ]
    }
   ],
   "source": [
    "# import urllib.request\n",
    "\n",
    "# xml_url = \"https://raw.githubusercontent.com/opencv/opencv/master/data/haarcascades/haarcascade_frontalface_default.xml\"\n",
    "# save_path = \"haarcascade_frontalface_default.xml\"\n",
    "\n",
    "# # Download the XML file\n",
    "# urllib.request.urlretrieve(xml_url, save_path)\n",
    "# print(\"XML file downloaded successfully!\")\n"
   ]
  },
  {
   "cell_type": "code",
   "execution_count": 5,
   "id": "dd710713",
   "metadata": {},
   "outputs": [],
   "source": [
    "labels_dict={0:'Angry',1:'Disgust',2:'Fear',3:'Happy',4:'Neutral',5:'Sad',6:'Surprise'}\n",
    "# len(no. of images, image_height, image_width, channel)"
   ]
  },
  {
   "cell_type": "code",
   "execution_count": 13,
   "id": "1f9c5440",
   "metadata": {},
   "outputs": [],
   "source": [
    "frame=cv2.imread(\"image.png\")\n",
    "gray=cv2.cvtColor(frame, cv2.COLOR_BGR2GRAY)\n",
    "faces=faceDetect.detectMultiScale(gray, 1.3, 3)"
   ]
  },
  {
   "cell_type": "code",
   "execution_count": 17,
   "id": "6769f2d7",
   "metadata": {},
   "outputs": [
    {
     "name": "stdout",
     "output_type": "stream",
     "text": [
      "6\n",
      "1\n",
      "4\n",
      "3\n"
     ]
    }
   ],
   "source": [
    "for x,y,w,h in faces:\n",
    "    sub_face_img = gray[y:y+h, x:x+w]\n",
    "    resized=cv2.resize(sub_face_img,(48,48))\n",
    "    normalize=resized/255.0\n",
    "    reshaped=np.reshape(normalize, (1,48,48,1))\n",
    "    result=model.predict(reshaped)\n",
    "    label=np.argmax(result, axis=1)[0]\n",
    "    print(label)\n",
    "    cv2.rectangle(frame, (x,y), (x+w, y+h), (0,0,255), 1)\n",
    "    cv2.rectangle(frame, (x,y), (x+w, y+h), (50,50,255), 2)\n",
    "    cv2.rectangle(frame, (x,y-40), (x+w, y), (50,50,255), -1)\n",
    "    cv2.putText(frame, labels_dict[label], (x,y-10), cv2.FONT_HERSHEY_SIMPLEX,0.8,(255,255,255),2)"
   ]
  },
  {
   "cell_type": "code",
   "execution_count": null,
   "id": "419ab47c",
   "metadata": {},
   "outputs": [],
   "source": [
    "cv2.imshow(\"Frame\",frame)\n",
    "cv2.waitKey(0)\n",
    "cv2.destroyAllWindows()"
   ]
  }
 ],
 "metadata": {
  "kernelspec": {
   "display_name": "Python 3 (ipykernel)",
   "language": "python",
   "name": "python3"
  },
  "language_info": {
   "codemirror_mode": {
    "name": "ipython",
    "version": 3
   },
   "file_extension": ".py",
   "mimetype": "text/x-python",
   "name": "python",
   "nbconvert_exporter": "python",
   "pygments_lexer": "ipython3",
   "version": "3.8.10"
  }
 },
 "nbformat": 4,
 "nbformat_minor": 5
}
